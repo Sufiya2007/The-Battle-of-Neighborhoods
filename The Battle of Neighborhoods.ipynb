{
 "cells": [
  {
   "cell_type": "markdown",
   "metadata": {},
   "source": [
    "# Introduction"
   ]
  },
  {
   "cell_type": "markdown",
   "metadata": {},
   "source": [
    "#### In this project we will help people who are looking for renting an apartment in Vienna. If they are looking to move to Vienna they can see:\n",
    "<ul>\n",
    "<li> Which district has cheaper rent or,\n",
    "<li> They can choose to live in residential or commercial areas and can see for example which residential districts is best\n",
    "</ul>\n",
    "\n",
    "#### Or, if they already live in one of the 23 districts in Vienna they will be able to see: \n",
    "<ul>\n",
    "<li> If they are paying more than the average price for their apartment  \n",
    "<li> If there are similar districts to theirs with lower rents\n",
    "</ul>"
   ]
  },
  {
   "cell_type": "markdown",
   "metadata": {},
   "source": [
    "# Data"
   ]
  },
  {
   "cell_type": "markdown",
   "metadata": {},
   "source": [
    "#### The data on apartments (size, number of rooms, address, and price) is collected by scraping a local website with apartment listings (willhaben.at). Using geopy we find the coordinates for each district and then using Foursquare we collect the closest venues (supermarket, restaurant, park, etc.). After the data collection we can run k-means clustering to cluster the districts into residential and commercial areas and visualize all the data on a single choropleth map. "
   ]
  },
  {
   "cell_type": "markdown",
   "metadata": {},
   "source": [
    "### Load dependencies"
   ]
  },
  {
   "cell_type": "code",
   "execution_count": 1,
   "metadata": {},
   "outputs": [],
   "source": [
    "import pandas as pd\n",
    "import numpy as np\n",
    "\n",
    "#!conda install -c conda-forge geopy --yes\n",
    "from geopy.geocoders import Nominatim # convert an address into latitude and longitude values\n",
    "from geopy.distance import great_circle\n",
    "\n",
    "#!conda install -c conda-forge folium=0.5.0 --yes # uncomment this line if you haven't completed the Foursquare API lab\n",
    "import folium # map rendering library\n",
    "\n",
    "import json # library to handle JSON files\n",
    "\n",
    "import requests # library to handle requests\n",
    "from requests import get\n",
    "\n",
    "from bs4 import BeautifulSoup\n",
    "\n",
    "import re\n",
    "\n",
    "from time import sleep\n",
    "\n",
    "# Matplotlib and associated plotting modules\n",
    "import matplotlib.cm as cm\n",
    "import matplotlib.colors as colors\n",
    "import matplotlib.pyplot as plt\n",
    "\n",
    "import seaborn as sns\n",
    "\n",
    "import json # library to handle JSON files\n",
    "from pandas.io.json import json_normalize # tranform JSON file into a pandas dataframe\n",
    "\n",
    "# import k-means from clustering stage\n",
    "from sklearn.cluster import KMeans"
   ]
  },
  {
   "cell_type": "markdown",
   "metadata": {},
   "source": [
    "## 1. Scraping willhaben.at for apartments data in Vienna"
   ]
  },
  {
   "cell_type": "markdown",
   "metadata": {},
   "source": [
    "#### Extract relevant data (Postal Code, District, Size in m2, number of rooms, and Price) by looping through all pages until no more listings are found"
   ]
  },
  {
   "cell_type": "code",
   "execution_count": null,
   "metadata": {},
   "outputs": [],
   "source": [
    "listing_found = True\n",
    "page_num = 1\n",
    "listings = []\n",
    "\n",
    "while listing_found:\n",
    "    \n",
    "    # define header to make the request look like it's comming from an actual browser\n",
    "    headers = {'User-agent': 'Googlebot'}\n",
    "    \n",
    "    # set url \n",
    "    url = 'https://www.willhaben.at/iad/immobilien/mietwohnungen/mietwohnung-angebote?areaId=900&page={}&rows=200'.format(page_num)\n",
    "    \n",
    "    # load the response\n",
    "    response = get(url, headers=headers)\n",
    "    soup = BeautifulSoup(response.text, 'html.parser')\n",
    "    \n",
    "    # find all outer containers of listings\n",
    "    apartment_containers = soup.find_all('section', class_=\"content-section isRealestate\")\n",
    "    \n",
    "    # check if page contains listings\n",
    "    if len(apartment_containers) == 0:\n",
    "        break\n",
    "    \n",
    "    # for each apartment extract relevant data\n",
    "    for apt in apartment_containers:\n",
    "        try:\n",
    "            info = apt.find_all('div', class_=\"info\")[0]\n",
    "\n",
    "            try:\n",
    "                size = info.find_all('span', class_=\"desc-left\")[0].text.split()[0]\n",
    "            except:\n",
    "                size = np.nan\n",
    "\n",
    "            try:\n",
    "                rooms = info.find_all('span', class_=\"desc-left\")[0].text.split()[2]\n",
    "            except:\n",
    "                rooms = np.nan\n",
    "\n",
    "            try:\n",
    "                price = info.find_all('span', class_=\"pull-right\")[0].text.split()[0]\n",
    "            except:\n",
    "                price = np.nan\n",
    "\n",
    "        except:\n",
    "            size, rooms, price = np.nan\n",
    "\n",
    "        try:\n",
    "            full_address = apt.find_all('div', class_=\"address-lg w-brk-ln-1\")[0].text.split()\n",
    "            full_address = ' '.join(full_address)\n",
    "\n",
    "            postal_code = re.search('1\\d\\d0', full_address)[0]\n",
    "            district = full_address.split(', ')[-1]\n",
    "\n",
    "            if address == None:\n",
    "                address = None\n",
    "            else:\n",
    "                address = address[1]\n",
    "\n",
    "                if len(address.split(', ')) > 1:\n",
    "                    address = address.split(', ')[0]\n",
    "        except:\n",
    "            address = None\n",
    "            postal_code = None\n",
    "            district = None\n",
    "\n",
    "        listings.append([postal_code, district, size, rooms, price])\n",
    "    \n",
    "    # increase page number\n",
    "    page_num += 1\n",
    "    \n",
    "    # set sleep to mimic a more human behaviour and don't overload the site with requests\n",
    "    sleep(np.random.randint(1,3))"
   ]
  },
  {
   "cell_type": "markdown",
   "metadata": {},
   "source": [
    "#### set column names and build a dataframe from previous results"
   ]
  },
  {
   "cell_type": "code",
   "execution_count": null,
   "metadata": {},
   "outputs": [],
   "source": [
    "column_names = ['PostalCode', 'District', 'Size', 'Rooms', 'Price']\n",
    "rental_properties = pd.DataFrame(listings, columns=column_names)"
   ]
  },
  {
   "cell_type": "code",
   "execution_count": null,
   "metadata": {},
   "outputs": [],
   "source": [
    "print('There are {} apartments in the dataset'.format(rental_properties.shape[0]))"
   ]
  },
  {
   "cell_type": "code",
   "execution_count": null,
   "metadata": {},
   "outputs": [],
   "source": [
    "rental_properties.head()"
   ]
  },
  {
   "cell_type": "markdown",
   "metadata": {},
   "source": [
    "## 2. Pre-process & Visualize the data "
   ]
  },
  {
   "cell_type": "markdown",
   "metadata": {},
   "source": [
    "#### Adjust the data so they have the same format for each column"
   ]
  },
  {
   "cell_type": "code",
   "execution_count": null,
   "metadata": {},
   "outputs": [],
   "source": [
    "rental_properties['Size'] = rental_properties['Size'].str.replace('–', 'NaN').astype('float')\n",
    "rental_properties['Rooms'] = rental_properties['Rooms'].astype('float')\n",
    "rental_properties['Price'] = rental_properties['Price'].str.replace('.', '').str.replace(',', '.').str.replace('-', '00').str.replace('vermietet', 'NaN').astype('float')"
   ]
  },
  {
   "cell_type": "markdown",
   "metadata": {},
   "source": [
    "#### Calculate the price per meter squared"
   ]
  },
  {
   "cell_type": "code",
   "execution_count": null,
   "metadata": {},
   "outputs": [],
   "source": [
    "rental_properties['Price/m2'] = (rental_properties['Price']/rental_properties['Size']).round(2)"
   ]
  },
  {
   "cell_type": "code",
   "execution_count": null,
   "metadata": {},
   "outputs": [],
   "source": [
    "rental_properties.head()"
   ]
  },
  {
   "cell_type": "code",
   "execution_count": null,
   "metadata": {},
   "outputs": [],
   "source": [
    "rental_properties.describe()"
   ]
  },
  {
   "cell_type": "code",
   "execution_count": null,
   "metadata": {},
   "outputs": [],
   "source": [
    "rental_properties.dtypes"
   ]
  },
  {
   "cell_type": "markdown",
   "metadata": {},
   "source": [
    "#### Remove rows with NA values in all columns except for the number of rooms since there are too many missing values"
   ]
  },
  {
   "cell_type": "code",
   "execution_count": null,
   "metadata": {},
   "outputs": [],
   "source": [
    "rental_properties.dropna(subset=['PostalCode', 'District', 'Size', 'Price'], inplace=True)"
   ]
  },
  {
   "cell_type": "code",
   "execution_count": null,
   "metadata": {},
   "outputs": [],
   "source": [
    "print('There are {} apartments in the dataset'.format(rental_properties.shape[0]))"
   ]
  },
  {
   "cell_type": "markdown",
   "metadata": {},
   "source": [
    "#### Let's check how many apartments per room number we have in our dataset"
   ]
  },
  {
   "cell_type": "code",
   "execution_count": null,
   "metadata": {},
   "outputs": [],
   "source": [
    "rental_properties['Rooms'].value_counts()"
   ]
  },
  {
   "cell_type": "markdown",
   "metadata": {},
   "source": [
    "#### Let's remove all rows with rooms larger than 6. Apartments bigger than 6 will most likely be luxurious apartments and does not fit the target group."
   ]
  },
  {
   "cell_type": "code",
   "execution_count": null,
   "metadata": {},
   "outputs": [],
   "source": [
    "rental_properties = rental_properties[rental_properties['Rooms'] <= 6]"
   ]
  },
  {
   "cell_type": "markdown",
   "metadata": {},
   "source": [
    "#### We can visualize the number of apartments per room number and number of apartments in each district"
   ]
  },
  {
   "cell_type": "code",
   "execution_count": null,
   "metadata": {},
   "outputs": [],
   "source": [
    "fig, ax =plt.subplots(2,1, figsize=(12,15))\n",
    "sns.countplot(rental_properties['Rooms'], ax=ax[0])\n",
    "sns.countplot(rental_properties['PostalCode'], ax=ax[1])\n",
    "ax[1].set_xticklabels(ax[1].get_xticklabels(), rotation=50, ha=\"right\")"
   ]
  },
  {
   "cell_type": "markdown",
   "metadata": {},
   "source": [
    "#### Plot the price and check for any outliers"
   ]
  },
  {
   "cell_type": "code",
   "execution_count": null,
   "metadata": {},
   "outputs": [],
   "source": [
    "sns.jointplot(x='Size', y='Price', data=rental_properties[['Size','Price']])"
   ]
  },
  {
   "cell_type": "markdown",
   "metadata": {},
   "source": [
    "#### Remove the outliers"
   ]
  },
  {
   "cell_type": "code",
   "execution_count": null,
   "metadata": {},
   "outputs": [],
   "source": [
    "rental_properties = rental_properties[rental_properties['Price'] <= 7000]"
   ]
  },
  {
   "cell_type": "code",
   "execution_count": null,
   "metadata": {},
   "outputs": [],
   "source": [
    "sns.jointplot(x='Size', y='Price', data=rental_properties[['Size','Price']])"
   ]
  },
  {
   "cell_type": "markdown",
   "metadata": {},
   "source": [
    "#### We expect the value of properties to go up as the number of rooms increases. The interesting aspect in this boxplot is that 1 and 2 room apartments are competing in the same price range."
   ]
  },
  {
   "cell_type": "code",
   "execution_count": null,
   "metadata": {},
   "outputs": [],
   "source": [
    "sns.boxplot(x='Rooms', y='Price', data=rental_properties)"
   ]
  },
  {
   "cell_type": "markdown",
   "metadata": {},
   "source": [
    "#### In the following plot we can see that the price/m2 is in the same price range for all size apartments besides for single room apartments where the price/m2 goes even higher"
   ]
  },
  {
   "cell_type": "code",
   "execution_count": null,
   "metadata": {},
   "outputs": [],
   "source": [
    "sns.boxplot(x='Rooms', y='Price/m2', data=rental_properties)"
   ]
  },
  {
   "cell_type": "markdown",
   "metadata": {},
   "source": [
    "#### Let's also check the differences in price per m2 in each district"
   ]
  },
  {
   "cell_type": "code",
   "execution_count": null,
   "metadata": {},
   "outputs": [],
   "source": [
    "plt.figure(figsize=(15,10))\n",
    "ax = sns.boxplot(x='PostalCode', y='Price', data=rental_properties)\n",
    "ax.set_xticklabels(ax.get_xticklabels(), rotation=50, ha=\"right\")\n",
    "ax.tick_params(labelsize=13)"
   ]
  },
  {
   "cell_type": "markdown",
   "metadata": {},
   "source": [
    "#### Save the dataframe to a csv file (optional)"
   ]
  },
  {
   "cell_type": "code",
   "execution_count": null,
   "metadata": {},
   "outputs": [],
   "source": [
    "# vienna_districts.to_csv('district_coordinates.csv', index=False)"
   ]
  },
  {
   "cell_type": "markdown",
   "metadata": {},
   "source": [
    "## 3. Get coordinates for each district"
   ]
  },
  {
   "cell_type": "markdown",
   "metadata": {},
   "source": [
    "#### To avoid fetching coordinates for the same districts many times, we find the unique postal codes and find the coordinates once for each district"
   ]
  },
  {
   "cell_type": "code",
   "execution_count": null,
   "metadata": {},
   "outputs": [],
   "source": [
    "# vienna_districts = pd.read_csv('district_coordinates.csv')\n",
    "# vienna_districts"
   ]
  },
  {
   "cell_type": "code",
   "execution_count": null,
   "metadata": {},
   "outputs": [],
   "source": [
    "vienna_districts = rental_properties[['PostalCode','District']].drop_duplicates().sort_values(by=['PostalCode']).reset_index(drop=True)\n",
    "vienna_districts"
   ]
  },
  {
   "cell_type": "code",
   "execution_count": null,
   "metadata": {},
   "outputs": [],
   "source": [
    "latitude = np.zeros(vienna_districts.shape[0])\n",
    "longitude = np.zeros(vienna_districts.shape[0])\n",
    "\n",
    "geolocator = Nominatim(user_agent=\"vienna_explorer\")\n",
    "\n",
    "for idx in range(vienna_districts.shape[0]):\n",
    "    address = vienna_districts['District'].loc[idx] + ', Wien'\n",
    "    \n",
    "    location = geolocator.geocode(address)\n",
    "    latitude[idx] = location.latitude\n",
    "    longitude[idx] = location.longitude"
   ]
  },
  {
   "cell_type": "code",
   "execution_count": null,
   "metadata": {},
   "outputs": [],
   "source": [
    "district_coordinates = vienna_districts\n",
    "district_coordinates['Latitude'] = latitude\n",
    "district_coordinates['Longitude'] = longitude\n",
    "district_coordinates"
   ]
  },
  {
   "cell_type": "markdown",
   "metadata": {},
   "source": [
    "#### We can visualize the districts on a map "
   ]
  },
  {
   "cell_type": "code",
   "execution_count": null,
   "metadata": {},
   "outputs": [],
   "source": [
    "# create map of Vienna using latitude and longitude values\n",
    "map_vienna = folium.Map(location=[48.2012167,16.3725062], zoom_start=12)\n",
    "\n",
    "# add markers to map\n",
    "for lat, lng, postalcode, district in zip(district_coordinates['Latitude'], district_coordinates['Longitude'], district_coordinates['PostalCode'], district_coordinates['District']):\n",
    "    dist = postalcode[1:3]\n",
    "    label = '{}. {}'.format(dist, district)\n",
    "    label = folium.Popup(label, parse_html=True)\n",
    "    folium.CircleMarker(\n",
    "        [lat, lng],\n",
    "        radius=5,\n",
    "        popup=label,\n",
    "        color='blue',\n",
    "        fill=True,\n",
    "        fill_color='#3186cc',\n",
    "        fill_opacity=0.7,\n",
    "        parse_html=False).add_to(map_vienna)  \n",
    "    \n",
    "map_vienna"
   ]
  },
  {
   "cell_type": "markdown",
   "metadata": {},
   "source": [
    "## 4. Visualize the average price/m2 & average apartment size per district on a choropleth map"
   ]
  },
  {
   "cell_type": "markdown",
   "metadata": {},
   "source": [
    "#### Extract only the Vienna districts from the JSON file and edit the keys to match our data  \n",
    "\n",
    "JSON file from: https://github.com/ginseng666/GeoJSON-TopoJSON-Austria"
   ]
  },
  {
   "cell_type": "code",
   "execution_count": null,
   "metadata": {},
   "outputs": [],
   "source": [
    "with open('gemeinden_wien_bezirke_geo.json') as json_data:\n",
    "    location_data = json.load(json_data)"
   ]
  },
  {
   "cell_type": "code",
   "execution_count": null,
   "metadata": {},
   "outputs": [],
   "source": [
    "location_data['features'] = location_data['features'][:23]"
   ]
  },
  {
   "cell_type": "code",
   "execution_count": null,
   "metadata": {},
   "outputs": [],
   "source": [
    "for idx in range(len(location_data['features'])):\n",
    "    location_data['features'][idx]['properties']['name'] = location_data['features'][idx]['properties']['name'].replace('Wien ','')"
   ]
  },
  {
   "cell_type": "markdown",
   "metadata": {},
   "source": [
    "#### Calculate the mean per district "
   ]
  },
  {
   "cell_type": "code",
   "execution_count": null,
   "metadata": {},
   "outputs": [],
   "source": [
    "mean_per_district = rental_properties.groupby('District').mean().reset_index()\n",
    "mean_per_district.head()"
   ]
  },
  {
   "cell_type": "markdown",
   "metadata": {},
   "source": [
    "### 4.1 Average price/m2 per district"
   ]
  },
  {
   "cell_type": "code",
   "execution_count": null,
   "metadata": {},
   "outputs": [],
   "source": [
    "# vienna_geo = r'BEZIRKSGRENZEOGD.json' # geojson file\n",
    "vienna_geo = location_data\n",
    "\n",
    "# create a plain map of Vienna\n",
    "vienna_map = folium.Map(location=[48.2012167,16.3725062], zoom_start=12)\n",
    "\n",
    "# add the data\n",
    "vienna_map.choropleth(\n",
    "    geo_data=location_data,\n",
    "    data=mean_per_district,\n",
    "    columns=['District', 'Price/m2'],\n",
    "    key_on='feature.properties.name',\n",
    "    fill_color='YlOrRd', \n",
    "    fill_opacity=0.7, \n",
    "    line_opacity=0.2,\n",
    "    legend_name='Average price/m2 for each district in Vienna'\n",
    ")\n",
    "\n",
    "# add markers to map\n",
    "for lat, lng, postalcode, district in zip(district_coordinates['Latitude'], district_coordinates['Longitude'], district_coordinates['PostalCode'], district_coordinates['District']):\n",
    "    dist = postalcode[1:3]\n",
    "    label = '{}. {}'.format(dist, district)\n",
    "    label = folium.Popup(label, parse_html=True)\n",
    "    folium.Circle(\n",
    "        [lat, lng],\n",
    "        radius=100,\n",
    "        popup=label,\n",
    "        color='blue',\n",
    "        fill=True,\n",
    "        fill_color='#3186cc',\n",
    "        fill_opacity=0.7,\n",
    "        parse_html=False).add_to(vienna_map) \n",
    "\n",
    "# display map\n",
    "vienna_map"
   ]
  },
  {
   "cell_type": "markdown",
   "metadata": {},
   "source": [
    "### 4.2 Average apartment size per district"
   ]
  },
  {
   "cell_type": "code",
   "execution_count": null,
   "metadata": {},
   "outputs": [],
   "source": [
    "# vienna_geo = r'BEZIRKSGRENZEOGD.json' # geojson file\n",
    "vienna_geo = location_data\n",
    "\n",
    "# create a plain map of Vienna\n",
    "vienna_map = folium.Map(location=[48.2012167,16.3725062], zoom_start=12)\n",
    "\n",
    "# add the data\n",
    "vienna_map.choropleth(\n",
    "    geo_data=location_data,\n",
    "    data=mean_per_district,\n",
    "    columns=['District', 'Size'],\n",
    "    key_on='feature.properties.name',\n",
    "    fill_color='YlOrRd', \n",
    "    fill_opacity=0.7, \n",
    "    line_opacity=0.2,\n",
    "    legend_name='Average apartment size for each district in Vienna'\n",
    ")\n",
    "\n",
    "# add markers to map\n",
    "for lat, lng, postalcode, district in zip(district_coordinates['Latitude'], district_coordinates['Longitude'], district_coordinates['PostalCode'], district_coordinates['District']):\n",
    "    dist = postalcode[1:3]\n",
    "    label = '{}. {}'.format(dist, district)\n",
    "    label = folium.Popup(label, parse_html=True)\n",
    "    folium.Circle(\n",
    "        [lat, lng],\n",
    "        radius=100,\n",
    "        popup=label,\n",
    "        color='blue',\n",
    "        fill=True,\n",
    "        fill_color='#3186cc',\n",
    "        fill_opacity=0.7,\n",
    "        parse_html=False).add_to(vienna_map) \n",
    "\n",
    "# display map\n",
    "vienna_map"
   ]
  },
  {
   "cell_type": "markdown",
   "metadata": {},
   "source": [
    "## 5. Get Foursquare data"
   ]
  },
  {
   "cell_type": "markdown",
   "metadata": {},
   "source": [
    "#### Define Foursquare Credentials and Version"
   ]
  },
  {
   "cell_type": "code",
   "execution_count": null,
   "metadata": {
    "collapsed": false
   },
   "outputs": [],
   "source": [
    "# @hidden_cell\n",
    "CLIENT_ID = 'FFX4YX2OMO5WEPXT1C2TUODB5GBVG2M4NVHVHMCBOIJRF41E' # your Foursquare ID\n",
    "CLIENT_SECRET = 'YFUSRKR244ZSLL4MCHZJCMBLJBKE5NNZEYJ2I05W5UGGZW1C' # your Foursquare Secret\n",
    "VERSION = '20180605' # Foursquare API version"
   ]
  },
  {
   "cell_type": "markdown",
   "metadata": {},
   "source": [
    "#### Let's create a function to repeat the same process to all the districts in Vienna"
   ]
  },
  {
   "cell_type": "code",
   "execution_count": null,
   "metadata": {
    "collapsed": true
   },
   "outputs": [],
   "source": [
    "def getNearbyVenues(names, latitudes, longitudes, radius=500, LIMIT=100):\n",
    "    \n",
    "    venues_list=[]\n",
    "    for name, lat, lng in zip(names, latitudes, longitudes):\n",
    "            \n",
    "        # create the API request URL\n",
    "        url = 'https://api.foursquare.com/v2/venues/explore?&client_id={}&client_secret={}&v={}&ll={},{}&radius={}&limit={}'.format(\n",
    "            CLIENT_ID, \n",
    "            CLIENT_SECRET, \n",
    "            VERSION, \n",
    "            lat, \n",
    "            lng, \n",
    "            radius, \n",
    "            LIMIT)\n",
    "            \n",
    "        # make the GET request\n",
    "        results = requests.get(url).json()[\"response\"]['groups'][0]['items']\n",
    "        \n",
    "        # return only relevant information for each nearby venue\n",
    "        venues_list.append([(\n",
    "            name, \n",
    "            lat, \n",
    "            lng, \n",
    "            v['venue']['name'], \n",
    "            v['venue']['location']['lat'], \n",
    "            v['venue']['location']['lng'],  \n",
    "            v['venue']['categories'][0]['name']) for v in results])\n",
    "\n",
    "    nearby_venues = pd.DataFrame([item for venue_list in venues_list for item in venue_list])\n",
    "    nearby_venues.columns = ['District', \n",
    "                  'District Latitude', \n",
    "                  'District Longitude', \n",
    "                  'Venue', \n",
    "                  'Venue Latitude', \n",
    "                  'Venue Longitude', \n",
    "                  'Venue Category']\n",
    "    \n",
    "    return(nearby_venues)"
   ]
  },
  {
   "cell_type": "code",
   "execution_count": null,
   "metadata": {},
   "outputs": [],
   "source": [
    "vienna_venues = getNearbyVenues(names=district_coordinates['District'],\n",
    "                                   latitudes=district_coordinates['Latitude'],\n",
    "                                   longitudes=district_coordinates['Longitude'],\n",
    "                                   radius=2000, LIMIT=100)"
   ]
  },
  {
   "cell_type": "code",
   "execution_count": null,
   "metadata": {},
   "outputs": [],
   "source": [
    "vienna_venues.head()"
   ]
  },
  {
   "cell_type": "code",
   "execution_count": null,
   "metadata": {},
   "outputs": [],
   "source": [
    "print('{} venues are collected'.format(vienna_venues.shape[0]))"
   ]
  },
  {
   "cell_type": "code",
   "execution_count": null,
   "metadata": {},
   "outputs": [],
   "source": [
    "vienna_venues.groupby('District').count()"
   ]
  },
  {
   "cell_type": "markdown",
   "metadata": {},
   "source": [
    "#### Let's find out how many unique categories can be curated from all the returned venues"
   ]
  },
  {
   "cell_type": "code",
   "execution_count": null,
   "metadata": {
    "collapsed": false
   },
   "outputs": [],
   "source": [
    "print('There are {} uniques categories.'.format(len(vienna_venues['Venue Category'].unique())))"
   ]
  },
  {
   "cell_type": "markdown",
   "metadata": {},
   "source": [
    "## 6. Analyze Each District"
   ]
  },
  {
   "cell_type": "code",
   "execution_count": null,
   "metadata": {
    "collapsed": false
   },
   "outputs": [],
   "source": [
    "# one hot encoding\n",
    "vienna_onehot = pd.get_dummies(vienna_venues[['Venue Category']], prefix=\"\", prefix_sep=\"\")\n",
    "\n",
    "# add neighborhood column back to dataframe\n",
    "vienna_onehot['District'] = vienna_venues['District'] \n",
    "\n",
    "# move neighborhood column to the first column\n",
    "fixed_columns = [vienna_onehot.columns[-1]] + list(vienna_onehot.columns[:-1])\n",
    "vienna_onehot = vienna_onehot[fixed_columns]\n",
    "\n",
    "vienna_onehot.head()"
   ]
  },
  {
   "cell_type": "markdown",
   "metadata": {},
   "source": [
    "#### Next, let's group rows by district and by taking the mean of the frequency of occurrence of each category"
   ]
  },
  {
   "cell_type": "code",
   "execution_count": null,
   "metadata": {
    "collapsed": false
   },
   "outputs": [],
   "source": [
    "vienna_grouped = vienna_onehot.groupby('District').mean().reset_index()\n",
    "vienna_grouped"
   ]
  },
  {
   "cell_type": "markdown",
   "metadata": {},
   "source": [
    "#### First, let's write a function to sort the venues in descending order."
   ]
  },
  {
   "cell_type": "code",
   "execution_count": null,
   "metadata": {
    "collapsed": true
   },
   "outputs": [],
   "source": [
    "def return_most_common_venues(row, num_top_venues):\n",
    "    row_categories = row.iloc[1:]\n",
    "    row_categories_sorted = row_categories.sort_values(ascending=False)\n",
    "    \n",
    "    return row_categories_sorted.index.values[0:num_top_venues]"
   ]
  },
  {
   "cell_type": "markdown",
   "metadata": {},
   "source": [
    "#### Now let's create a new dataframe and display the top 10 venues for each district."
   ]
  },
  {
   "cell_type": "code",
   "execution_count": null,
   "metadata": {
    "collapsed": false
   },
   "outputs": [],
   "source": [
    "num_top_venues = 10\n",
    "\n",
    "indicators = ['st', 'nd', 'rd']\n",
    "\n",
    "# create columns according to number of top venues\n",
    "columns = ['District']\n",
    "for idx in np.arange(num_top_venues):\n",
    "    try:\n",
    "        columns.append('{}{} Most Common Venue'.format(idx+1, indicators[idx]))\n",
    "    except:\n",
    "        columns.append('{}th Most Common Venue'.format(idx+1))\n",
    "\n",
    "# create a new dataframe\n",
    "district_venues_sorted = pd.DataFrame(columns=columns)\n",
    "district_venues_sorted['District'] = vienna_grouped['District']\n",
    "\n",
    "for idx in np.arange(vienna_grouped.shape[0]):\n",
    "    district_venues_sorted.iloc[idx, 1:] = return_most_common_venues(vienna_grouped.iloc[idx, :], num_top_venues)"
   ]
  },
  {
   "cell_type": "code",
   "execution_count": null,
   "metadata": {},
   "outputs": [],
   "source": [
    "district_venues_sorted"
   ]
  },
  {
   "cell_type": "markdown",
   "metadata": {},
   "source": [
    "## 7. Cluster Districts"
   ]
  },
  {
   "cell_type": "markdown",
   "metadata": {},
   "source": [
    "#### Run *k*-means to cluster the districts into 2 clusters (in this case the best k is 2)"
   ]
  },
  {
   "cell_type": "code",
   "execution_count": null,
   "metadata": {
    "collapsed": false
   },
   "outputs": [],
   "source": [
    "# set number of clusters\n",
    "kclusters = 2\n",
    "\n",
    "vienna_grouped_clustering = vienna_grouped.drop('District', 1)\n",
    "\n",
    "# run k-means clustering\n",
    "kmeans = KMeans(n_clusters=kclusters, random_state=0).fit(vienna_grouped_clustering)\n",
    "\n",
    "# check cluster labels generated for each row in the dataframe\n",
    "kmeans.labels_[0:10]"
   ]
  },
  {
   "cell_type": "markdown",
   "metadata": {},
   "source": [
    "#### Let's create a new dataframe that includes the cluster as well as the price/m2 and the top 10 venues for each neighborhood."
   ]
  },
  {
   "cell_type": "code",
   "execution_count": null,
   "metadata": {
    "collapsed": false
   },
   "outputs": [],
   "source": [
    "# add clustering labels\n",
    "district_venues_sorted.insert(0, 'Cluster Labels', kmeans.labels_)\n",
    "\n",
    "# add price/m2 for each district\n",
    "vienna_merged = pd.merge(district_coordinates, mean_per_district[['District', 'Price/m2']])\n",
    "\n",
    "# add latitude/longitude for each district\n",
    "vienna_merged = vienna_merged.join(district_venues_sorted.set_index('District'), on='District')\n",
    "\n",
    "vienna_merged"
   ]
  },
  {
   "cell_type": "code",
   "execution_count": null,
   "metadata": {},
   "outputs": [],
   "source": [
    "vienna_merged['Cluster Labels'].value_counts()"
   ]
  },
  {
   "cell_type": "markdown",
   "metadata": {},
   "source": [
    "#### Finally, let's visualize the resulting clusters"
   ]
  },
  {
   "cell_type": "code",
   "execution_count": null,
   "metadata": {
    "collapsed": false
   },
   "outputs": [],
   "source": [
    "# create map\n",
    "map_clusters = folium.Map(location=[48.2012167,16.3725062], zoom_start=12)\n",
    "\n",
    "# set colors\n",
    "rainbow = ['blue', 'red']\n",
    "\n",
    "# add markers to the map\n",
    "markers_colors = []\n",
    "for lat, lon, poi, cluster in zip(vienna_merged['Latitude'], vienna_merged['Longitude'], vienna_merged['District'], vienna_merged['Cluster Labels']):\n",
    "    label = folium.Popup(str(poi) + ' Cluster ' + str(cluster), parse_html=True)\n",
    "    folium.CircleMarker(\n",
    "        [lat, lon],\n",
    "        radius=5,\n",
    "        popup=label,\n",
    "        color=rainbow[cluster],\n",
    "        fill=True,\n",
    "        fill_color=rainbow[cluster],\n",
    "        fill_opacity=0.7).add_to(map_clusters)\n",
    "       \n",
    "map_clusters"
   ]
  },
  {
   "cell_type": "markdown",
   "metadata": {},
   "source": [
    "## 8. Examine Clusters"
   ]
  },
  {
   "cell_type": "markdown",
   "metadata": {},
   "source": [
    "#### Cluster 1"
   ]
  },
  {
   "cell_type": "code",
   "execution_count": null,
   "metadata": {
    "collapsed": false
   },
   "outputs": [],
   "source": [
    "cluster1 = vienna_merged.loc[vienna_merged['Cluster Labels'] == 0, vienna_merged.columns[[1] + list(range(5, vienna_merged.shape[1]))]]\n",
    "cluster1"
   ]
  },
  {
   "cell_type": "markdown",
   "metadata": {},
   "source": [
    "#### Cluster 2"
   ]
  },
  {
   "cell_type": "code",
   "execution_count": null,
   "metadata": {
    "collapsed": false
   },
   "outputs": [],
   "source": [
    "cluster2 = vienna_merged.loc[vienna_merged['Cluster Labels'] == 1, vienna_merged.columns[[1] + list(range(5, vienna_merged.shape[1]))]]\n",
    "cluster2"
   ]
  },
  {
   "cell_type": "markdown",
   "metadata": {},
   "source": [
    "#### By analyzing the clusters we can see that cluster 1 is more residential since it contains lots of parks and supermarkets while cluster 2 is more commercial / touristic and contains many hotels and restaurants "
   ]
  },
  {
   "cell_type": "markdown",
   "metadata": {},
   "source": [
    "## 9. Final Visualization"
   ]
  },
  {
   "cell_type": "markdown",
   "metadata": {},
   "source": [
    "#### With all the gathered data we can now create a choropleth map displaying the average price/m2 for each district as well as display information about the area type and top 10 locations for each district on the marker labels. With this map, one could determine for example that the 1st district is the most expensive district to live in, however by clustering we determined that there are several more similar districts where the price/m2 is significantly lower. Therefore, if someone wants to rent an apartment but cannot afford to live in the 1st district, they could look for apartments in the 12th or 15th district which is similar in venues but has much lower price for renting apartments."
   ]
  },
  {
   "cell_type": "code",
   "execution_count": null,
   "metadata": {},
   "outputs": [],
   "source": [
    "# vienna_geo = r'BEZIRKSGRENZEOGD.json' # geojson file\n",
    "vienna_geo = location_data\n",
    "\n",
    "# create a plain map of Vienna\n",
    "vienna_map = folium.Map(location=[48.2012167,16.3725062], zoom_start=12)\n",
    "\n",
    "# add the data\n",
    "vienna_map.choropleth(\n",
    "    geo_data=location_data,\n",
    "    data=mean_per_district,\n",
    "    columns=['District', 'Price/m2'],\n",
    "    key_on='feature.properties.name',\n",
    "    fill_color='YlOrRd', \n",
    "    fill_opacity=0.7, \n",
    "    line_opacity=0.2,\n",
    "    legend_name='Average price/m2 for each district in Vienna'\n",
    ")\n",
    "\n",
    "# set colors\n",
    "marker_colors = ['blue', 'red']\n",
    "\n",
    "# add markers for e\n",
    "for idx in range(len(vienna_merged)):\n",
    "    html_label = ''\n",
    "    \n",
    "    lat = vienna_merged['Latitude'].loc[idx]\n",
    "    lng = vienna_merged['Longitude'].loc[idx]\n",
    "    district_num = (vienna_merged['PostalCode'].loc[idx])[1:3]\n",
    "    district = vienna_merged['District'].loc[idx]\n",
    "    cluster = vienna_merged['Cluster Labels'].loc[idx]\n",
    "    average_price = vienna_merged['Price/m2'].loc[idx]\n",
    "    \n",
    "    if (cluster == 0):\n",
    "        area = 'Residential'\n",
    "    elif (cluster == 1):\n",
    "        area = 'Commercial / Touristic'\n",
    "    else: area = \"NA\"\n",
    "    \n",
    "    html_label = '<h4>' + str(district_num) + '. ' + district + '</h4><h5><b> Area: </b>' + area + '</h5><h5><b> Average Price/m2: </b>' + str(average_price.round(2)) + '€ </h5><h5><b> Top 10 Venues: </b></h5><h5><ol>'\n",
    "    \n",
    "    for col in range(6, 16):\n",
    "        html_label += '<li>' + vienna_merged.iloc[idx, col]\n",
    "\n",
    "    html_label += '</ol></h5>'\n",
    "    \n",
    "    folium.CircleMarker(\n",
    "        [lat, lng],\n",
    "        radius=5,\n",
    "        popup=html_label,\n",
    "        color=rainbow[cluster],\n",
    "        fill=True,\n",
    "        fill_color=marker_colors[cluster],\n",
    "        fill_opacity=0.7).add_to(vienna_map)\n",
    "\n",
    "# display map\n",
    "vienna_map"
   ]
  }
 ],
 "metadata": {
  "kernelspec": {
   "display_name": "Python 3",
   "language": "python",
   "name": "python3"
  },
  "language_info": {
   "codemirror_mode": {
    "name": "ipython",
    "version": 3
   },
   "file_extension": ".py",
   "mimetype": "text/x-python",
   "name": "python",
   "nbconvert_exporter": "python",
   "pygments_lexer": "ipython3",
   "version": "3.6.8"
  }
 },
 "nbformat": 4,
 "nbformat_minor": 2
}
